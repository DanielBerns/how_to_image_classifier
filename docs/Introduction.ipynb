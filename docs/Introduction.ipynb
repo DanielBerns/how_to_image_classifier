{
 "cells": [
  {
   "cell_type": "markdown",
   "id": "10fafe99",
   "metadata": {},
   "source": [
    "# How to design, implement, test and deploy an image classifier\n"
   ]
  },
  {
   "cell_type": "markdown",
   "id": "24a4b53a",
   "metadata": {},
   "source": [
    "## An introduction"
   ]
  },
  {
   "cell_type": "markdown",
   "id": "94586ab1",
   "metadata": {},
   "source": [
    "We want to use a neural network to classify images, and deploy it to the public at large.\n",
    "This is a well known subject, with some little tricky details. In this article, we explore what we need to achieve our goal of building a complete image classifier, available as a website and a telegram bot as interfaces to the users.\n",
    "\n",
    "A neural network is a function $y = f(x, w)$. In this case, $x$ is the image, $y$ is the image class encoded as a vector, and $w$ are the weights of the neural network. Each one of $x$, $y$ and $w$ are arrays of numbers of distinct shape. \n",
    "1. We get the images $x$ from a digital camera.\n",
    "2. Suppose we have $n$ image classes (for example, 3 classes 'apple', 'orange', and 'banana'). One hot encoding represents each class with a vector whose elements are 1 and 0. For example apple is $[1, 0, 0]^{t}$, orange is $[0, 1, 0]^{t}$, and banana is $[0, 0, 1]^{t}$.\n",
    "3. The function $f$ is a set of nested functions or layers.\n",
    "4. We obtain weights $w$ minimizing a loss function, evaluated with a set of $M$ examples $(x_{k}, y_{k})$, $1 \\leq k \\leq M$.\n",
    "\n",
    "For start, we need to obtain a neural network able to classify images. In other words, we need software with  four basic functions of a neural networks (build_model, train, predict, and test), and some data (the weights or parameters needed for predict and test, or a set of examples to be used as inputs for training). \n",
    "\n",
    "There are three options to obtain a neural network able to classify images. These options differ in the ways of obtaining the weights of the neural network.\n",
    "1. Use a pretrained neural network as is (Least expensive).\n",
    "2. Adapt a pretrained neural network (\"transfer learning\", or \"finetuning\").\n",
    "3. Build a neural network from scratch (Most expensive).\n",
    "\n",
    "If we use a pretrained neural network, it is obvious we save the effort the training task. However, The real time savings result from avoiding building a set of examples. This task requires intensive human actions (hard to automate expensive actions). \n",
    "\n",
    "Adapt a pretrained neural network requires some amount of examples. \n",
    "\n",
    "Also, we have to consider the hardware we use. For example, we can train our neural network in a computer with a fast GPU and lots of RAM, and use a small computer \"in the edge\" for prediction. However, attempting to train a neural network in a IOT device makes no sense. So, we have the following options:\n",
    "\n",
    "Train task\n",
    "1. Local machine, CPU or GPU?, RAM?, kind of data storage? \n",
    "2. cloud, money?\n",
    "\n",
    "Predict task\n",
    "1. Local machine\n",
    "2. Web server\n",
    "3. Cloud\n",
    "4. Edge device\n"
   ]
  },
  {
   "cell_type": "markdown",
   "id": "ce427f38",
   "metadata": {},
   "source": [
    "## Some examples\n",
    "\n"
   ]
  }
 ],
 "metadata": {
  "kernelspec": {
   "display_name": "Python 3 (ipykernel)",
   "language": "python",
   "name": "python3"
  },
  "language_info": {
   "codemirror_mode": {
    "name": "ipython",
    "version": 3
   },
   "file_extension": ".py",
   "mimetype": "text/x-python",
   "name": "python",
   "nbconvert_exporter": "python",
   "pygments_lexer": "ipython3",
   "version": "3.8.10"
  }
 },
 "nbformat": 4,
 "nbformat_minor": 5
}
